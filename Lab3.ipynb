{
 "cells": [
  {
   "cell_type": "code",
   "execution_count": 54,
   "metadata": {},
   "outputs": [],
   "source": [
    "import tkinter\n",
    "from tkinter import *\n",
    "from tkinter import filedialog\n",
    "\n",
    "from PIL import ImageTk, Image, ImageFilter\n",
    "\n",
    "class ImageStuff:\n",
    "    \n",
    "    def __init__(self):\n",
    "        self.window_width = 1024\n",
    "        self.window_height = 720\n",
    "        \n",
    "        self.widget = Tk()\n",
    "        self.widget.geometry(f'{self.window_width}x{self.window_height}')\n",
    "        self.widget.title(\"Lab3\")\n",
    "        \n",
    "        self.label_input = Label(self.widget, text = \"Input image\", font = (\"Consolas\", 14))\n",
    "        self.label_input.grid(column = 0, row = 0)        \n",
    "        self.canvas_input = Canvas(self.widget, bg = 'white')\n",
    "        self.canvas_input.grid(column = 0, row = 1)\n",
    "        \n",
    "        self.label_output = Label(self.widget, text = \"Output image\", font = (\"Consolas\", 14))\n",
    "        self.label_output.grid(column = 0, row = 2)        \n",
    "        self.canvas_output = Canvas(self.widget, bg = 'white')\n",
    "        self.canvas_output.grid(column = 0, row = 3)\n",
    "        \n",
    "        self.image_input = None\n",
    "        self.image_input_shown = None\n",
    "        self.image_output = None\n",
    "        self.image_output_shown = None\n",
    "        \n",
    "        button_load = Button(self.widget, text = \"Load image\", bg = \"white\", fg = \"red\", command = self.load)\n",
    "        button_load.grid(column = 2, row = 1)\n",
    "        \n",
    "        button_save = Button(self.widget, text = \"Filter image\", bg = \"white\", fg = \"red\", command = self.filter)\n",
    "        button_save.grid(column = 2, row = 2)\n",
    "        \n",
    "        button_load = Button(self.widget, text = \"Save image\", bg = \"white\", fg = \"red\", command = self.save)\n",
    "        button_load.grid(column = 2, row = 3)\n",
    "        \n",
    "    def load(self):\n",
    "        temp = tkinter.filedialog.askopenfilename()\n",
    "        self.label_input.configure(text = f\"Input image {temp.split('/')[-1]}\")\n",
    "        self.image_input = Image.open(temp)\n",
    "        self.image_input_shown = ImageTk.PhotoImage(self.image_input)\n",
    "        self.canvas_input.create_image(0, 0, image = self.image_input_shown)\n",
    "        self.image_output = self.image_input\n",
    "                             \n",
    "    def save(self):\n",
    "        file = tkinter.filedialog.asksaveasfilename()\n",
    "        self.image_output.save(file)\n",
    "                             \n",
    "    def filter(self):\n",
    "        self.image_output = self.image_input.convert('RGB')\n",
    "        self.image_output = self.image_output.filter(ImageFilter.CONTOUR)\n",
    "        self.image_output_shown = ImageTk.PhotoImage(self.image_output)\n",
    "        self.canvas_output.create_image(0, 0, image = self.image_output_shown)\n",
    "        self.label_output.configure(text = f\"Output image: CONTOUR filter\")\n",
    "    \n",
    "    def loop(self):        \n",
    "        self.widget.mainloop()"
   ]
  },
  {
   "cell_type": "code",
   "execution_count": 56,
   "metadata": {},
   "outputs": [],
   "source": [
    "ImageStuff().loop()"
   ]
  },
  {
   "cell_type": "code",
   "execution_count": null,
   "metadata": {},
   "outputs": [],
   "source": []
  }
 ],
 "metadata": {
  "kernelspec": {
   "display_name": "Python 3",
   "language": "python",
   "name": "python3"
  },
  "language_info": {
   "codemirror_mode": {
    "name": "ipython",
    "version": 3
   },
   "file_extension": ".py",
   "mimetype": "text/x-python",
   "name": "python",
   "nbconvert_exporter": "python",
   "pygments_lexer": "ipython3",
   "version": "3.7.3"
  }
 },
 "nbformat": 4,
 "nbformat_minor": 2
}
