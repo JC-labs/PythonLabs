{
 "cells": [
  {
   "cell_type": "code",
   "execution_count": 23,
   "metadata": {},
   "outputs": [],
   "source": [
    "import tkinter\n",
    "from tkinter import *\n",
    "from tkinter import filedialog\n",
    "\n",
    "from PIL import ImageTk, Image\n",
    "import numpy as np\n",
    "import matplotlib.pyplot as plt\n",
    "import pandas as pd"
   ]
  },
  {
   "cell_type": "code",
   "execution_count": 28,
   "metadata": {},
   "outputs": [],
   "source": [
    "def get_plot_figure(interval_from=-10, interfal_to=10, step=0.05):\n",
    "    \n",
    "    x = np.arange(interval_from, interfal_to, step)\n",
    "    function = lambda x: np.tan(x) / x\n",
    "    y = function(x)\n",
    "    np.nan_to_num(y)\n",
    "    data = pd.DataFrame({'x': x, 'y': y})\n",
    "    \n",
    "    fig, ax = plt.subplots(figsize=(18, 6))\n",
    "    ax.set(title=\"Function\", xlabel=\"X\", ylabel='Y')\n",
    "    ax.plot(x, y, color='Green', linewidth=4)\n",
    "    ax.legend([\"y = tan(x)/x\"], fontsize=16, loc=0)\n",
    "    ax.grid()\n",
    "    ax.set(xlim=[interval_from , interfal_to])\n",
    "    return fig\n",
    "\n",
    "def fig2data (fig):\n",
    "    \"\"\"\n",
    "    @brief Convert a Matplotlib figure to a 4D numpy array with RGBA channels and return it\n",
    "    @param fig a matplotlib figure\n",
    "    @return a numpy 3D array of RGBA values\n",
    "    \"\"\"\n",
    "    # draw the renderer\n",
    "    fig.canvas.draw()\n",
    " \n",
    "    # Get the RGBA buffer from the figure\n",
    "    w,h = fig.canvas.get_width_height()\n",
    "    buf = np.fromstring (fig.canvas.tostring_argb(), dtype=np.uint8)\n",
    "    buf.shape = (w, h, 4)\n",
    " \n",
    "    # canvas.tostring_argb give pixmap in ARGB mode. Roll the ALPHA channel to have it in RGBA mode\n",
    "    buf = np.roll ( buf, 3, axis=2)\n",
    "    return buf\n",
    "\n",
    "def fig2img (fig):\n",
    "    \"\"\"\n",
    "    @brief Convert a Matplotlib figure to a PIL Image in RGBA format and return it\n",
    "    @param fig a matplotlib figure\n",
    "    @return a Python Imaging Library ( PIL ) image\n",
    "    \"\"\"\n",
    "    # put the figure pixmap into a numpy array\n",
    "    buf = fig2data(fig)\n",
    "    w, h, d = buf.shape\n",
    "    return Image.frombytes(\"RGBA\", ( w ,h ), buf.tostring( ) )"
   ]
  },
  {
   "cell_type": "code",
   "execution_count": null,
   "metadata": {},
   "outputs": [
    {
     "name": "stderr",
     "output_type": "stream",
     "text": [
      "C:\\Anaconda\\lib\\site-packages\\ipykernel_launcher.py:28: DeprecationWarning: The binary mode of fromstring is deprecated, as it behaves surprisingly on unicode inputs. Use frombuffer instead\n"
     ]
    }
   ],
   "source": [
    "WIDTH = 800\n",
    "HEIGHT = 400\n",
    "\n",
    "image_pil = None\n",
    "image_tk = None\n",
    "image_filtered = None\n",
    "image_tk_filtered = None\n",
    "\n",
    "root = Tk()\n",
    "root.geometry(f'{WIDTH}x{HEIGHT}')\n",
    "root.title(\"Lab4\")\n",
    "\n",
    "label = Label(root, text=\"y = tan(x)/x\", font=(\"Consolas\", 14))\n",
    "label.grid(column=0, row=0)\n",
    "\n",
    "canv = Canvas(root, bg='white', width=WIDTH, height=HEIGHT - 100)\n",
    "canv.grid(column=0, row=2)\n",
    "\n",
    "\n",
    "def plot():\n",
    "    global canv, image_pil, image_tk\n",
    "    figure = get_plot_figure()\n",
    "    image_pil = fig2img(figure).resize(\n",
    "            (WIDTH, HEIGHT - 100), Image.ANTIALIAS)\n",
    "    \n",
    "    image_tk = ImageTk.PhotoImage(image_pil)\n",
    "    canv.create_image(0, 0, image=image_tk, anchor=\"nw\")\n",
    "    \n",
    "def save_img():\n",
    "    file = filedialog.asksaveasfilename()\n",
    "    image_pil.save(file)\n",
    "    \n",
    "\n",
    "button = Button(root, text=\"Plot function\", bg=\"white\", fg=\"red\", command=plot)\n",
    "button.grid(column=0, row=1)\n",
    "\n",
    "button2 = Button(root, text=\"Save plot\", bg=\"white\", fg=\"red\", command=save_img)\n",
    "button2.grid(column=0, row=3)\n",
    "\n",
    "\n",
    "root.mainloop()"
   ]
  },
  {
   "cell_type": "code",
   "execution_count": null,
   "metadata": {},
   "outputs": [],
   "source": []
  }
 ],
 "metadata": {
  "kernelspec": {
   "display_name": "Python 3",
   "language": "python",
   "name": "python3"
  },
  "language_info": {
   "codemirror_mode": {
    "name": "ipython",
    "version": 3
   },
   "file_extension": ".py",
   "mimetype": "text/x-python",
   "name": "python",
   "nbconvert_exporter": "python",
   "pygments_lexer": "ipython3",
   "version": "3.7.3"
  }
 },
 "nbformat": 4,
 "nbformat_minor": 2
}
